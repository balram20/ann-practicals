{
  "nbformat": 4,
  "nbformat_minor": 0,
  "metadata": {
    "colab": {
      "provenance": []
    },
    "kernelspec": {
      "name": "python3",
      "display_name": "Python 3"
    },
    "language_info": {
      "name": "python"
    }
  },
  "cells": [
    {
      "cell_type": "code",
      "source": [
        "\n",
        "import numpy as np\n",
        "import tensorflow as tf\n",
        "import matplotlib.pyplot as plt\n",
        "from sklearn.linear_model import Perceptron\n",
        "from sklearn.datasets import make_classification\n",
        "from sklearn.neural_network import MLPClassifier\n",
        "\n",
        "class CNNModel:\n",
        "    def __init__(self, num_classes):\n",
        "        self.num_classes = num_classes\n",
        "        self.model = self.build_model()\n",
        "\n",
        "    def build_model(self):\n",
        "        model = tf.keras.Sequential([\n",
        "            tf.keras.layers.Conv2D(32, (3, 3), activation='relu', input_shape=(32, 32, 3)),\n",
        "            tf.keras.layers.MaxPooling2D((2, 2)),\n",
        "            tf.keras.layers.Conv2D(64, (3, 3), activation='relu'),\n",
        "            tf.keras.layers.MaxPooling2D((2, 2)),\n",
        "            tf.keras.layers.Flatten(),\n",
        "            tf.keras.layers.Dense(64, activation='relu'),\n",
        "            tf.keras.layers.Dense(self.num_classes, activation='softmax')\n",
        "        ])\n",
        "        return model\n",
        "\n",
        "    def train(self, X_train, y_train, epochs=10, batch_size=128):\n",
        "        self.model.compile(optimizer='adam', loss='sparse_categorical_crossentropy', metrics=['accuracy'])\n",
        "        self.model.fit(X_train, y_train, epochs=epochs, batch_size=batch_size)\n",
        "\n",
        "    def evaluate(self, X_test, y_test):\n",
        "        loss, accuracy = self.model.evaluate(X_test, y_test)\n",
        "        print(\"Test Loss:\", loss)\n",
        "        print(\"Test Accuracy:\", accuracy)\n",
        "\n",
        "    def predict(self, X):\n",
        "        return self.model.predict(X)\n",
        "\n",
        "(X_train, y_train), (X_test, y_test) = tf.keras.datasets.cifar10.load_data()\n",
        "\n",
        "X_train = X_train / 255.0\n",
        "X_test = X_test / 255.0\n",
        "\n",
        "num_classes = 10\n",
        "cnn_model = CNNModel(num_classes)\n",
        "cnn_model.train(X_train, y_train, epochs=2, batch_size=32)\n",
        "cnn_model.evaluate(X_test, y_test)\n",
        "predictions = cnn_model.predict(X_test)\n"
      ],
      "metadata": {
        "id": "jOYkbezn5rJi",
        "colab": {
          "base_uri": "https://localhost:8080/"
        },
        "outputId": "ed298502-be0a-4b07-b1c9-3267021af2b2"
      },
      "execution_count": 1,
      "outputs": [
        {
          "output_type": "stream",
          "name": "stdout",
          "text": [
            "Downloading data from https://www.cs.toronto.edu/~kriz/cifar-10-python.tar.gz\n",
            "170498071/170498071 [==============================] - 3s 0us/step\n",
            "Epoch 1/2\n",
            "1563/1563 [==============================] - 73s 46ms/step - loss: 1.4233 - accuracy: 0.4900\n",
            "Epoch 2/2\n",
            "1563/1563 [==============================] - 71s 45ms/step - loss: 1.0765 - accuracy: 0.6250\n",
            "313/313 [==============================] - 4s 13ms/step - loss: 1.0563 - accuracy: 0.6336\n",
            "Test Loss: 1.056325078010559\n",
            "Test Accuracy: 0.6335999965667725\n",
            "313/313 [==============================] - 5s 14ms/step\n"
          ]
        }
      ]
    }
  ]
}